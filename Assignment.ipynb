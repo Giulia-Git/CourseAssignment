{
 "cells": [
  {
   "cell_type": "markdown",
   "id": "c6e8f23a-a01d-40ab-abba-1a7fbc91e490",
   "metadata": {},
   "source": [
    "# Assignment Course \"Tools for Data Science\""
   ]
  },
  {
   "cell_type": "markdown",
   "id": "4f996c68-adbd-4dfc-b885-6b642e73367b",
   "metadata": {},
   "source": [
    "This is the final assignment for the IBM course \"Tools for Data Science\""
   ]
  },
  {
   "cell_type": "markdown",
   "id": "e2acebc8-ef9c-487f-912f-4140a87b83bd",
   "metadata": {},
   "source": [
    "Languages for Data Science:\n",
    "\n",
    "* Python\n",
    "\n",
    "* R\n",
    "\n",
    "* SQL"
   ]
  },
  {
   "cell_type": "markdown",
   "id": "67f4cbe6-bb25-4c19-83b4-bdf7491b66e8",
   "metadata": {},
   "source": [
    "Data Science Libraries:\n",
    "\n",
    "- Pandas\n",
    "\n",
    "- NumPy\n",
    "\n",
    "- Matplotlib\n",
    "\n",
    "- Seaborn\n",
    "\n",
    "- Scikit Learn\n",
    "\n",
    "- Keras\n",
    "\n",
    "- TensorFlow\n",
    "\n",
    "- PyTorch\n",
    "\n",
    "- Apache Spark"
   ]
  },
  {
   "cell_type": "markdown",
   "id": "bd598925-251c-4d4d-b8ae-09da93f16ef8",
   "metadata": {},
   "source": [
    "Data Science Tools\n",
    "\n",
    "|Tool Name|\n",
    "|------|\n",
    "|Jupiter Notebook|\n",
    "|RStudio|\n",
    "|GitHub|\n",
    "|Watson Studio|"
   ]
  },
  {
   "cell_type": "markdown",
   "id": "7b077d04-c147-44d2-8f3c-571d780c7261",
   "metadata": {},
   "source": [
    "Following there will be an arithmetic expression"
   ]
  },
  {
   "cell_type": "code",
   "execution_count": 2,
   "id": "f19293cd-1af3-4a39-80e4-aeae0bd80122",
   "metadata": {},
   "outputs": [
    {
     "data": {
      "text/plain": [
       "90"
      ]
     },
     "execution_count": 2,
     "metadata": {},
     "output_type": "execute_result"
    }
   ],
   "source": [
    "(1+5)*15"
   ]
  },
  {
   "cell_type": "code",
   "execution_count": 4,
   "id": "09f96043-6156-4003-99c7-50cad18db5b0",
   "metadata": {},
   "outputs": [
    {
     "name": "stdout",
     "output_type": "stream",
     "text": [
      "2.0\n"
     ]
    }
   ],
   "source": [
    "minutes=120\n",
    "hours=minutes/60\n",
    "print(hours)"
   ]
  },
  {
   "cell_type": "markdown",
   "id": "733f7762-a760-41d7-b823-85eb2d3bc54d",
   "metadata": {},
   "source": [
    "Objectives:\n",
    "\n",
    "* Knowledge of main data science languages\n",
    "* Knowledge of main data science tools"
   ]
  },
  {
   "cell_type": "markdown",
   "id": "d42aeb53-6f0a-4ced-a01e-720b0b3861f7",
   "metadata": {},
   "source": [
    "Author: Giulia Campa"
   ]
  },
  {
   "cell_type": "code",
   "execution_count": null,
   "id": "097e728a-7640-4acc-a961-9a8971ff4674",
   "metadata": {},
   "outputs": [],
   "source": []
  }
 ],
 "metadata": {
  "kernelspec": {
   "display_name": "Python",
   "language": "python",
   "name": "conda-env-python-py"
  },
  "language_info": {
   "codemirror_mode": {
    "name": "ipython",
    "version": 3
   },
   "file_extension": ".py",
   "mimetype": "text/x-python",
   "name": "python",
   "nbconvert_exporter": "python",
   "pygments_lexer": "ipython3",
   "version": "3.7.12"
  }
 },
 "nbformat": 4,
 "nbformat_minor": 5
}
